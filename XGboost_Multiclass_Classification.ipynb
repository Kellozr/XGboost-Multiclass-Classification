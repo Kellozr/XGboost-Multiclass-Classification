{
  "cells": [
    {
      "cell_type": "markdown",
      "metadata": {
        "id": "view-in-github",
        "colab_type": "text"
      },
      "source": [
        "<a href=\"https://colab.research.google.com/github/Kellozr/XGboost-Multiclass-Classification/blob/main/XGboost_Multiclass_Classification.ipynb\" target=\"_parent\"><img src=\"https://colab.research.google.com/assets/colab-badge.svg\" alt=\"Open In Colab\"/></a>"
      ]
    },
    {
      "cell_type": "code",
      "execution_count": null,
      "metadata": {
        "colab": {
          "background_save": true,
          "base_uri": "https://localhost:8080/"
        },
        "id": "I9RRiuWxeV2w",
        "outputId": "f62f0246-7000-4613-ff8f-91e0cb6da124"
      },
      "outputs": [
        {
          "name": "stdout",
          "output_type": "stream",
          "text": [
            "Requirement already satisfied: category_encoders in /usr/local/lib/python3.11/dist-packages (2.8.1)\n",
            "Requirement already satisfied: scikit-optimize in /usr/local/lib/python3.11/dist-packages (0.10.2)\n",
            "Requirement already satisfied: numpy>=1.14.0 in /usr/local/lib/python3.11/dist-packages (from category_encoders) (2.0.2)\n",
            "Requirement already satisfied: pandas>=1.0.5 in /usr/local/lib/python3.11/dist-packages (from category_encoders) (2.2.2)\n",
            "Requirement already satisfied: patsy>=0.5.1 in /usr/local/lib/python3.11/dist-packages (from category_encoders) (1.0.1)\n",
            "Requirement already satisfied: scikit-learn>=1.6.0 in /usr/local/lib/python3.11/dist-packages (from category_encoders) (1.6.1)\n",
            "Requirement already satisfied: scipy>=1.0.0 in /usr/local/lib/python3.11/dist-packages (from category_encoders) (1.15.3)\n",
            "Requirement already satisfied: statsmodels>=0.9.0 in /usr/local/lib/python3.11/dist-packages (from category_encoders) (0.14.4)\n",
            "Requirement already satisfied: joblib>=0.11 in /usr/local/lib/python3.11/dist-packages (from scikit-optimize) (1.5.1)\n",
            "Requirement already satisfied: pyaml>=16.9 in /usr/local/lib/python3.11/dist-packages (from scikit-optimize) (25.5.0)\n",
            "Requirement already satisfied: packaging>=21.3 in /usr/local/lib/python3.11/dist-packages (from scikit-optimize) (24.2)\n",
            "Requirement already satisfied: python-dateutil>=2.8.2 in /usr/local/lib/python3.11/dist-packages (from pandas>=1.0.5->category_encoders) (2.9.0.post0)\n",
            "Requirement already satisfied: pytz>=2020.1 in /usr/local/lib/python3.11/dist-packages (from pandas>=1.0.5->category_encoders) (2025.2)\n",
            "Requirement already satisfied: tzdata>=2022.7 in /usr/local/lib/python3.11/dist-packages (from pandas>=1.0.5->category_encoders) (2025.2)\n",
            "Requirement already satisfied: PyYAML in /usr/local/lib/python3.11/dist-packages (from pyaml>=16.9->scikit-optimize) (6.0.2)\n",
            "Requirement already satisfied: threadpoolctl>=3.1.0 in /usr/local/lib/python3.11/dist-packages (from scikit-learn>=1.6.0->category_encoders) (3.6.0)\n",
            "Requirement already satisfied: six>=1.5 in /usr/local/lib/python3.11/dist-packages (from python-dateutil>=2.8.2->pandas>=1.0.5->category_encoders) (1.17.0)\n"
          ]
        },
        {
          "name": "stderr",
          "output_type": "stream",
          "text": [
            "/usr/local/lib/python3.11/dist-packages/xgboost/core.py:158: UserWarning: [11:23:09] WARNING: /workspace/src/learner.cc:740: \n",
            "Parameters: { \"use_label_encoder\" } are not used.\n",
            "\n",
            "  warnings.warn(smsg, UserWarning)\n"
          ]
        },
        {
          "name": "stdout",
          "output_type": "stream",
          "text": [
            "✅ Best Parameters: OrderedDict([('classifier__colsample_bytree', 0.9127725236332915), ('classifier__learning_rate', 0.29999999999999993), ('classifier__max_depth', 3), ('classifier__n_estimators', 100), ('classifier__subsample', 0.7119199561300377)])\n",
            "🎯 Accuracy: 0.9989\n",
            "📋 Classification Report:\n",
            "               precision    recall  f1-score   support\n",
            "\n",
            "           0       1.00      1.00      1.00     66642\n",
            "           1       1.00      1.00      1.00     66726\n",
            "           2       1.00      1.00      1.00     66632\n",
            "\n",
            "    accuracy                           1.00    200000\n",
            "   macro avg       1.00      1.00      1.00    200000\n",
            "weighted avg       1.00      1.00      1.00    200000\n",
            "\n"
          ]
        }
      ],
      "source": [
        "# Install required libraries\n",
        "!pip install category_encoders scikit-optimize\n",
        "\n",
        "# Imports\n",
        "import pandas as pd\n",
        "from sklearn.pipeline import Pipeline\n",
        "from category_encoders.target_encoder import TargetEncoder\n",
        "from xgboost import XGBClassifier\n",
        "from sklearn.model_selection import train_test_split\n",
        "from sklearn.metrics import accuracy_score, classification_report\n",
        "from skopt import BayesSearchCV\n",
        "from skopt.space import Real, Integer\n",
        "\n",
        "# Step 1: Load and preprocess data\n",
        "df = pd.read_csv('/content/simulated_transaction.csv', engine='python', on_bad_lines='skip')\n",
        "\n",
        "# Clean and rename columns\n",
        "df = df.drop(columns=['customer_id']).rename(columns={\n",
        "    'industry': 'industry_ID',\n",
        "    'total_inflow': 'totalin',\n",
        "    'avg_inflow': 'avgin',\n",
        "    'num_inflows': 'noofin',\n",
        "    'total_outflow': 'totalout',\n",
        "    'avg_outflow': 'avgout',\n",
        "    'num_outflows': 'noout',\n",
        "    'avg_old_balance': 'oldbal',\n",
        "    'avg_new_balance': 'newbal'\n",
        "})\n",
        "\n",
        "# Convert numeric fields\n",
        "num_cols = ['totalin', 'avgin', 'noofin', 'avgout', 'noout', 'oldbal', 'newbal']\n",
        "for col in num_cols:\n",
        "    df[col] = pd.to_numeric(df[col], errors='coerce')\n",
        "\n",
        "# Drop NaNs\n",
        "df.dropna(subset=['totalout'], inplace=True)\n",
        "df.dropna(inplace=True)\n",
        "\n",
        "# Step 2: Convert totalout into multiclass label\n",
        "df['outflow_class'] = pd.qcut(df['totalout'], q=3, labels=[0, 1, 2])\n",
        "df['outflow_class'] = df['outflow_class'].astype(int)\n",
        "\n",
        "# Step 3: Features and target split\n",
        "X = df.drop(columns=['totalout', 'outflow_class'])\n",
        "y = df['outflow_class']\n",
        "\n",
        "x_train, x_test, y_train, y_test = train_test_split(X, y, test_size=0.2, random_state=42)\n",
        "\n",
        "# Step 4: Pipeline with target encoder + XGBoost\n",
        "pipeline = Pipeline([\n",
        "    ('encoder', TargetEncoder(cols=['industry_ID'])),\n",
        "    ('classifier', XGBClassifier(objective='multi:softprob', num_class=3, use_label_encoder=False, eval_metric='mlogloss', random_state=42))\n",
        "])\n",
        "\n",
        "# Step 5: Hyperparameter tuning space\n",
        "search_space = {\n",
        "    'classifier__n_estimators': Integer(100, 500),\n",
        "    'classifier__max_depth': Integer(3, 10),\n",
        "    'classifier__learning_rate': Real(0.01, 0.3, prior='log-uniform'),\n",
        "    'classifier__subsample': Real(0.5, 1.0),\n",
        "    'classifier__colsample_bytree': Real(0.5, 1.0)\n",
        "}\n",
        "\n",
        "# Step 6: Bayesian Optimization\n",
        "opt = BayesSearchCV(\n",
        "    estimator=pipeline,\n",
        "    search_spaces=search_space,\n",
        "    n_iter=20,\n",
        "    cv=3,\n",
        "    scoring='accuracy',\n",
        "    n_jobs=-1,\n",
        "    random_state=42\n",
        ")\n",
        "\n",
        "# Step 7: Fit model\n",
        "opt.fit(x_train, y_train)\n",
        "\n",
        "# Step 8: Predict and evaluate\n",
        "y_pred = opt.predict(x_test)\n",
        "\n",
        "print(\"✅ Best Parameters:\", opt.best_params_)\n",
        "print(\"🎯 Accuracy:\", round(accuracy_score(y_test, y_pred), 4))\n",
        "print(\"📋 Classification Report:\\n\", classification_report(y_test, y_pred))\n"
      ]
    }
  ],
  "metadata": {
    "colab": {
      "provenance": [],
      "authorship_tag": "ABX9TyNU1wRNhPyr5owBabEIg+Hs",
      "include_colab_link": true
    },
    "kernelspec": {
      "display_name": "Python 3",
      "name": "python3"
    },
    "language_info": {
      "name": "python"
    }
  },
  "nbformat": 4,
  "nbformat_minor": 0
}